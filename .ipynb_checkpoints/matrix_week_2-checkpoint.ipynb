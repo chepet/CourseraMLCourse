{
 "cells": [
  {
   "cell_type": "markdown",
   "metadata": {},
   "source": [
    "Выполните следующие шаги:\n",
    "\n",
    "* Скачайте файл с предложениями (sentences.txt).\n",
    "* Каждая строка в файле соответствует одному предложению. Считайте их, приведите каждую к нижнему регистру с помощью строковой функции lower().\n",
    "* Произведите токенизацию, то есть разбиение текстов на слова. Для этого можно воспользоваться регулярным выражением, которое считает разделителем любой символ, не являющийся буквой: re.split('[^a-z]', t). Не забудьте удалить пустые слова после разделения."
   ]
  },
  {
   "cell_type": "code",
   "execution_count": 33,
   "metadata": {
    "collapsed": false
   },
   "outputs": [],
   "source": [
    "import re\n",
    "\n",
    "data = open(\"data/sentences.txt\", \"r\")\n",
    "sentences = data.readlines()\n",
    "data.close()\n",
    "for i in xrange(len(sentences)):\n",
    "    sentence = re.split(\"[^a-z]\", sentences[i].lower())\n",
    "    sentences[i] = filter(None, sentence)\n",
    "    "
   ]
  },
  {
   "cell_type": "markdown",
   "metadata": {},
   "source": [
    "* Составьте список всех слов, встречающихся в предложениях. Сопоставьте каждому слову индекс от нуля до (d - 1), где d — число различных слов в предложениях. Для этого удобно воспользоваться структурой dict."
   ]
  },
  {
   "cell_type": "code",
   "execution_count": 46,
   "metadata": {
    "collapsed": false
   },
   "outputs": [],
   "source": [
    "word_dict = {}\n",
    "counter = 0\n",
    "for sentence in sentences:\n",
    "    for word in sentence:\n",
    "        if word not in word_dict:\n",
    "            word_dict[word] = counter\n",
    "            counter +=1\n",
    "# word_dict"
   ]
  },
  {
   "cell_type": "markdown",
   "metadata": {},
   "source": [
    "* Создайте матрицу размера nxd, где n — число предложений. Заполните ее: элемент с индексом (i, j) в этой матрице должен быть равен количеству вхождений j-го слова в i-е предложение. У вас должна получиться матрица размера 22 * 254."
   ]
  },
  {
   "cell_type": "code",
   "execution_count": 78,
   "metadata": {
    "collapsed": false
   },
   "outputs": [],
   "source": [
    "import numpy as np\n",
    "\n",
    "rows = len(sentences)\n",
    "columns = len(word_dict)\n",
    "matrix = np.zeros((rows, columns))\n",
    "for i in range(0, rows):\n",
    "    for word in sentences[i]:\n",
    "        word_index = word_dict[word]\n",
    "        matrix[i][word_index] += 1\n",
    "# matrix"
   ]
  },
  {
   "cell_type": "markdown",
   "metadata": {},
   "source": [
    "* Найдите косинусное расстояние от предложения в самой первой строке (In comparison to dogs, cats have not undergone...) до всех остальных с помощью функции scipy.spatial.distance.cosine. Какие номера у двух предложений, ближайших к нему по этому расстоянию (строки нумеруются с нуля)? Эти два числа и будут ответами на задание."
   ]
  },
  {
   "cell_type": "code",
   "execution_count": 97,
   "metadata": {
    "collapsed": false
   },
   "outputs": [
    {
     "name": "stdout",
     "output_type": "stream",
     "text": [
      "[(6, 0.7327387580875756), (4, 0.77708871496985887)]\n"
     ]
    }
   ],
   "source": [
    "from scipy.spatial.distance import cosine\n",
    "\n",
    "target = matrix[0, :]\n",
    "answers = []\n",
    "for i in range(1, rows):\n",
    "    sample  = matrix[i, :]\n",
    "    answers.append((i, cosine(target, sample)))\n",
    "answers\n",
    "\n",
    "sorted_list = sorted(answers, key=lambda key: key[1])\n",
    "print sorted_list[0:2]"
   ]
  },
  {
   "cell_type": "markdown",
   "metadata": {
    "collapsed": true
   },
   "source": [
    "# Следующее задание: аппроксимация функции."
   ]
  },
  {
   "cell_type": "markdown",
   "metadata": {},
   "source": [
    "f(x) = sin(x / 5.0) * exp(x / 10.0) + 5.0 * exp(-x / 2.0)"
   ]
  },
  {
   "cell_type": "markdown",
   "metadata": {},
   "source": [
    "* Сформируйте систему линейных уравнений (то есть задайте матрицу коэффициентов A и свободный вектор b) для многочлена первой степени, который должен совпадать с функцией f в точках 1 и 15. Решите данную систему с помощью функции scipy.linalg.solve. Нарисуйте функцию f и полученный многочлен. Хорошо ли он приближает исходную функцию?"
   ]
  },
  {
   "cell_type": "code",
   "execution_count": 3,
   "metadata": {
    "collapsed": false
   },
   "outputs": [
    {
     "ename": "TypeError",
     "evalue": "'int' object is not iterable",
     "output_type": "error",
     "traceback": [
      "\u001b[1;31m---------------------------------------------------------------------------\u001b[0m",
      "\u001b[1;31mTypeError\u001b[0m                                 Traceback (most recent call last)",
      "\u001b[1;32m<ipython-input-3-13bb7732b4e4>\u001b[0m in \u001b[0;36m<module>\u001b[1;34m()\u001b[0m\n\u001b[0;32m     20\u001b[0m \u001b[0mx_polin\u001b[0m \u001b[1;33m=\u001b[0m \u001b[0mnp\u001b[0m\u001b[1;33m.\u001b[0m\u001b[0marange\u001b[0m\u001b[1;33m(\u001b[0m\u001b[1;36m1\u001b[0m\u001b[1;33m,\u001b[0m \u001b[1;36m15\u001b[0m\u001b[1;33m,\u001b[0m \u001b[1;36m0.1\u001b[0m\u001b[1;33m)\u001b[0m\u001b[1;33m\u001b[0m\u001b[0m\n\u001b[0;32m     21\u001b[0m \u001b[0my_polin\u001b[0m \u001b[1;33m=\u001b[0m \u001b[1;33m[\u001b[0m\u001b[1;33m]\u001b[0m\u001b[1;33m\u001b[0m\u001b[0m\n\u001b[1;32m---> 22\u001b[1;33m \u001b[1;32mfor\u001b[0m \u001b[0mi\u001b[0m \u001b[1;32min\u001b[0m \u001b[0mlen\u001b[0m\u001b[1;33m(\u001b[0m\u001b[0mx_polin\u001b[0m\u001b[1;33m)\u001b[0m\u001b[1;33m:\u001b[0m\u001b[1;33m\u001b[0m\u001b[0m\n\u001b[0m\u001b[0;32m     23\u001b[0m     \u001b[0my_polin\u001b[0m\u001b[1;33m.\u001b[0m\u001b[0mappend\u001b[0m\u001b[1;33m(\u001b[0m\u001b[0manswer\u001b[0m\u001b[1;33m[\u001b[0m\u001b[1;36m0\u001b[0m\u001b[1;33m]\u001b[0m \u001b[1;33m*\u001b[0m \u001b[0mx_polin\u001b[0m\u001b[1;33m[\u001b[0m\u001b[0mi\u001b[0m\u001b[1;33m]\u001b[0m \u001b[1;33m**\u001b[0m \u001b[1;36m0\u001b[0m \u001b[1;33m+\u001b[0m \u001b[0manswer\u001b[0m\u001b[1;33m[\u001b[0m\u001b[1;36m1\u001b[0m\u001b[1;33m]\u001b[0m \u001b[1;33m*\u001b[0m \u001b[0mx_polin\u001b[0m\u001b[1;33m[\u001b[0m\u001b[0mi\u001b[0m\u001b[1;33m]\u001b[0m \u001b[1;33m**\u001b[0m \u001b[1;36m1\u001b[0m\u001b[1;33m)\u001b[0m\u001b[1;33m\u001b[0m\u001b[0m\n\u001b[0;32m     24\u001b[0m \u001b[0mx_\u001b[0m \u001b[1;33m=\u001b[0m \u001b[0mnp\u001b[0m\u001b[1;33m.\u001b[0m\u001b[0marange\u001b[0m\u001b[1;33m(\u001b[0m\u001b[1;36m1\u001b[0m\u001b[1;33m,\u001b[0m \u001b[1;36m15\u001b[0m\u001b[1;33m,\u001b[0m \u001b[1;36m0.1\u001b[0m\u001b[1;33m)\u001b[0m\u001b[1;33m\u001b[0m\u001b[0m\n",
      "\u001b[1;31mTypeError\u001b[0m: 'int' object is not iterable"
     ]
    }
   ],
   "source": [
    "%matplotlib inline\n",
    "\n",
    "import matplotlib.pyplot as plt\n",
    "import numpy as np\n",
    "\n",
    "from scipy.linalg import solve\n",
    "from numpy import sin, exp\n",
    "\n",
    "func = lambda x: sin(x / 5.0) * exp(x / 10.0) + 5.0 * exp(-x / 2.0)\n",
    "x = [1, 15]\n",
    "polinom_rank = 1\n",
    "matrix_a = np.zeros((polinom_rank+1, polinom_rank+1), dtype=float)\n",
    "matrix_b = np.zeros((polinom_rank+1, 1))\n",
    "\n",
    "for i in range(len(x)):\n",
    "    matrix_a[i] = [x[i]**n for n in range(0, polinom_rank+1)]\n",
    "matrix_b = map(func, x)\n",
    "answer = solve(matrix_a, matrix_b)\n",
    "\n",
    "x_polin = np.arange(1, 15, 0.1)\n",
    "y_polin = []\n",
    "for i in range(x_polin):\n",
    "    y_polin.append(answer[0] * x_polin[i] ** 0 + answer[1] * x_polin[i] ** 1)\n",
    "x_ = np.arange(1, 15, 0.1)\n",
    "plt.plot(x_, func(x_), x, answer)\n",
    "plt.show()\n"
   ]
  },
  {
   "cell_type": "code",
   "execution_count": 34,
   "metadata": {
    "collapsed": false
   },
   "outputs": [
    {
     "data": {
      "image/png": "[encoded data removed]",
      "text/plain": [
       "<matplotlib.figure.Figure at 0x7f934accdd50>"
      ]
     },
     "metadata": {},
     "output_type": "display_data"
    }
   ],
   "source": [
    "x = [1, 8, 15]\n",
    "polinom_rank = 2\n",
    "matrix_a = np.zeros((polinom_rank+1, polinom_rank+1), dtype=float)\n",
    "matrix_b = np.zeros((polinom_rank+1, 1))\n",
    "\n",
    "for i in range(len(x)):\n",
    "    matrix_a[i] = [x[i]**n for n in range(0, polinom_rank+1)]\n",
    "matrix_b = map(func, x)\n",
    "answer = solve(matrix_a, matrix_b)\n",
    "\n",
    "x_ = np.arange(1, 15, 0.1)\n",
    "plt.plot(x_, func(x_), x, answer)\n",
    "plt.show()"
   ]
  },
  {
   "cell_type": "code",
   "execution_count": 42,
   "metadata": {
    "collapsed": false
   },
   "outputs": [
    {
     "name": "stdout",
     "output_type": "stream",
     "text": [
      "[ 4.36264154 -1.29552587  0.19333685 -0.00823565]\n"
     ]
    },
    {
     "data": {
      "image/png": "[encoded data removed]",
      "text/plain": [
       "<matplotlib.figure.Figure at 0x7f93485e48d0>"
      ]
     },
     "metadata": {},
     "output_type": "display_data"
    }
   ],
   "source": [
    "x = [1, 4, 10, 15]\n",
    "polinom_rank = 3\n",
    "matrix_a = np.zeros((polinom_rank+1, polinom_rank+1), dtype=float)\n",
    "matrix_b = np.zeros((polinom_rank+1, 1))\n",
    "\n",
    "for i in range(len(x)):\n",
    "    matrix_a[i] = [x[i]**n for n in range(0, polinom_rank+1)]\n",
    "matrix_b = map(func, x)\n",
    "answer = solve(matrix_a, matrix_b)\n",
    "print(answer)\n",
    "x_ = np.arange(1, 15, 0.1)\n",
    "plt.plot(x_, func(x_), x, answer)\n",
    "plt.show()"
   ]
  }
 ],
 "metadata": {
  "kernelspec": {
   "display_name": "Python [Root]",
   "language": "python",
   "name": "Python [Root]"
  },
  "language_info": {
   "codemirror_mode": {
    "name": "ipython",
    "version": 2
   },
   "file_extension": ".py",
   "mimetype": "text/x-python",
   "name": "python",
   "nbconvert_exporter": "python",
   "pygments_lexer": "ipython2",
   "version": "2.7.12"
  }
 },
 "nbformat": 4,
 "nbformat_minor": 0
}
